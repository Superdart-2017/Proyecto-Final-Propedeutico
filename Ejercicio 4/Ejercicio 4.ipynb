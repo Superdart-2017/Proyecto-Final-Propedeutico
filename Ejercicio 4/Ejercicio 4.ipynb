{
 "cells": [
  {
   "cell_type": "markdown",
   "metadata": {},
   "source": [
    "# Ejercicio 4: Clasificación o regresión | Red Neuronal\n",
    "---"
   ]
  },
  {
   "cell_type": "markdown",
   "metadata": {},
   "source": [
    "## Cargar el Dataset\n",
    "---\n",
    "Cargar el dataset 'top500mangaMAL.csv' usando Pandas."
   ]
  },
  {
   "cell_type": "code",
   "execution_count": 13,
   "metadata": {},
   "outputs": [],
   "source": [
    "import numpy as np\n",
    "import pandas as pd\n",
    "from sklearn.model_selection import train_test_split\n",
    "from sklearn.preprocessing import StandardScaler, OneHotEncoder\n",
    "from tensorflow.keras.models import Sequential\n",
    "from tensorflow.keras.layers import Dense\n",
    "import matplotlib.pyplot as plt\n",
    "\n",
    "# Cargar el Dataset\n",
    "data = pd.read_csv(\"top500mangaMAL.csv\")"
   ]
  },
  {
   "cell_type": "markdown",
   "metadata": {},
   "source": [
    "## Selección y Limpieza de Datos\n",
    "---\n",
    "Seleccionar las columnas relevantes y eliminar filas con valores nulos en 'Score'."
   ]
  },
  {
   "cell_type": "code",
   "execution_count": 14,
   "metadata": {},
   "outputs": [],
   "source": [
    "# Selección y Limpieza de Datos\n",
    "\n",
    "# Usaremos las columnas relevantes: 'Genres', 'Popularity', 'Members', 'Favorites', y 'Score'\n",
    "data = data[['Genres', 'Popularity', 'Members', 'Favorites', 'Score']]\n",
    "\n",
    "# Eliminar filas con valores nulos en 'Score'\n",
    "data = data.dropna(subset=['Score'])"
   ]
  },
  {
   "cell_type": "markdown",
   "metadata": {},
   "source": [
    "## Procesar la Columna 'Genres'\n",
    "---\n",
    "Procesar la columna 'Genres' para extraer información relevante y convertir los géneros en variables dummies."
   ]
  },
  {
   "cell_type": "code",
   "execution_count": 15,
   "metadata": {},
   "outputs": [],
   "source": [
    "# Procesar la columna 'Genres' para extraer información relevante y convertir los géneros en variables dummies\n",
    "\n",
    "# Procesar la columna 'Genres' para extraer información relevante\n",
    "# Convertiremos los géneros en variables dummies\n",
    "genres_data = data['Genres'].str.strip('[]').str.replace(' ', '').str.replace(\"'\", \"\").str.split(',')\n",
    "\n",
    "# Convertir el conjunto de géneros únicos a una lista\n",
    "unique_genres = list(set(genre for genres in genres_data.dropna() for genre in genres))\n",
    "\n",
    "# Crear columnas para cada género y asignar 1/0 si el manga pertenece a ese género\n",
    "genres_encoded = pd.DataFrame(0, index=data.index, columns=unique_genres)\n",
    "for i, genres in genres_data.dropna().items():\n",
    "    # Asegurarse de que no haya duplicados en la lista de géneros\n",
    "    unique_genre_list = list(set(genres))  # Convertir el conjunto a una lista\n",
    "    genres_encoded.loc[i, unique_genre_list] = 1\n",
    "\n",
    "# Combinar datos categóricos (géneros) con las características numéricas\n",
    "numerical_data = data[['Popularity', 'Members', 'Favorites']].values\n",
    "X = np.hstack((genres_encoded.values, numerical_data))\n",
    "\n",
    "y = data['Score'].values  # Etiqueta a predecir\n"
   ]
  },
  {
   "cell_type": "markdown",
   "metadata": {},
   "source": [
    "## Entrenamiento y prueba del dataset\n",
    "---\n",
    "Entrenar el modelo con el dataset de entrenamiento"
   ]
  },
  {
   "cell_type": "code",
   "execution_count": 16,
   "metadata": {},
   "outputs": [],
   "source": [
    "# Dividir el dataset en entrenamiento y prueba\n",
    "X_train, X_test, y_train, y_test = train_test_split(X, y, test_size=0.2, random_state=42)\n",
    "\n",
    "# Escalar las características\n",
    "scaler = StandardScaler()\n",
    "X_train = scaler.fit_transform(X_train)\n",
    "X_test = scaler.transform(X_test)\n"
   ]
  },
  {
   "cell_type": "markdown",
   "metadata": {},
   "source": [
    "## Creación del modelo de red neuronal\n",
    "---\n",
    "Se crea un modelo de red neuroral y se entrenará el modelo con los datos de entrenamiento."
   ]
  },
  {
   "cell_type": "code",
   "execution_count": 17,
   "metadata": {},
   "outputs": [
    {
     "name": "stderr",
     "output_type": "stream",
     "text": [
      "c:\\Users\\esoli\\AppData\\Local\\Programs\\Python\\Python312\\Lib\\site-packages\\keras\\src\\layers\\core\\dense.py:87: UserWarning: Do not pass an `input_shape`/`input_dim` argument to a layer. When using Sequential models, prefer using an `Input(shape)` object as the first layer in the model instead.\n",
      "  super().__init__(activity_regularizer=activity_regularizer, **kwargs)\n"
     ]
    },
    {
     "name": "stdout",
     "output_type": "stream",
     "text": [
      "Epoch 1/50\n",
      "\u001b[1m10/10\u001b[0m \u001b[32m━━━━━━━━━━━━━━━━━━━━\u001b[0m\u001b[37m\u001b[0m \u001b[1m7s\u001b[0m 111ms/step - loss: 56.3940 - mae: 7.4707 - val_loss: 36.2377 - val_mae: 5.9317\n",
      "Epoch 2/50\n",
      "\u001b[1m10/10\u001b[0m \u001b[32m━━━━━━━━━━━━━━━━━━━━\u001b[0m\u001b[37m\u001b[0m \u001b[1m1s\u001b[0m 30ms/step - loss: 28.5866 - mae: 5.1594 - val_loss: 16.9387 - val_mae: 3.7929\n",
      "Epoch 3/50\n",
      "\u001b[1m10/10\u001b[0m \u001b[32m━━━━━━━━━━━━━━━━━━━━\u001b[0m\u001b[37m\u001b[0m \u001b[1m0s\u001b[0m 31ms/step - loss: 12.6016 - mae: 3.1199 - val_loss: 7.2932 - val_mae: 2.4145\n",
      "Epoch 4/50\n",
      "\u001b[1m10/10\u001b[0m \u001b[32m━━━━━━━━━━━━━━━━━━━━\u001b[0m\u001b[37m\u001b[0m \u001b[1m1s\u001b[0m 31ms/step - loss: 6.3579 - mae: 2.1514 - val_loss: 4.9669 - val_mae: 1.9093\n",
      "Epoch 5/50\n",
      "\u001b[1m10/10\u001b[0m \u001b[32m━━━━━━━━━━━━━━━━━━━━\u001b[0m\u001b[37m\u001b[0m \u001b[1m0s\u001b[0m 32ms/step - loss: 4.3667 - mae: 1.7067 - val_loss: 3.7262 - val_mae: 1.6215\n",
      "Epoch 6/50\n",
      "\u001b[1m10/10\u001b[0m \u001b[32m━━━━━━━━━━━━━━━━━━━━\u001b[0m\u001b[37m\u001b[0m \u001b[1m1s\u001b[0m 32ms/step - loss: 2.3000 - mae: 1.2366 - val_loss: 2.8052 - val_mae: 1.3799\n",
      "Epoch 7/50\n",
      "\u001b[1m10/10\u001b[0m \u001b[32m━━━━━━━━━━━━━━━━━━━━\u001b[0m\u001b[37m\u001b[0m \u001b[1m0s\u001b[0m 32ms/step - loss: 1.5287 - mae: 1.0091 - val_loss: 2.1300 - val_mae: 1.1685\n",
      "Epoch 8/50\n",
      "\u001b[1m10/10\u001b[0m \u001b[32m━━━━━━━━━━━━━━━━━━━━\u001b[0m\u001b[37m\u001b[0m \u001b[1m0s\u001b[0m 30ms/step - loss: 0.9205 - mae: 0.7492 - val_loss: 1.6380 - val_mae: 0.9857\n",
      "Epoch 9/50\n",
      "\u001b[1m10/10\u001b[0m \u001b[32m━━━━━━━━━━━━━━━━━━━━\u001b[0m\u001b[37m\u001b[0m \u001b[1m0s\u001b[0m 30ms/step - loss: 0.6394 - mae: 0.6202 - val_loss: 1.3447 - val_mae: 0.8605\n",
      "Epoch 10/50\n",
      "\u001b[1m10/10\u001b[0m \u001b[32m━━━━━━━━━━━━━━━━━━━━\u001b[0m\u001b[37m\u001b[0m \u001b[1m0s\u001b[0m 29ms/step - loss: 0.4711 - mae: 0.5512 - val_loss: 1.1282 - val_mae: 0.7694\n",
      "Epoch 11/50\n",
      "\u001b[1m10/10\u001b[0m \u001b[32m━━━━━━━━━━━━━━━━━━━━\u001b[0m\u001b[37m\u001b[0m \u001b[1m1s\u001b[0m 31ms/step - loss: 0.3975 - mae: 0.4902 - val_loss: 0.9572 - val_mae: 0.6987\n",
      "Epoch 12/50\n",
      "\u001b[1m10/10\u001b[0m \u001b[32m━━━━━━━━━━━━━━━━━━━━\u001b[0m\u001b[37m\u001b[0m \u001b[1m0s\u001b[0m 31ms/step - loss: 0.3266 - mae: 0.4548 - val_loss: 0.8607 - val_mae: 0.6459\n",
      "Epoch 13/50\n",
      "\u001b[1m10/10\u001b[0m \u001b[32m━━━━━━━━━━━━━━━━━━━━\u001b[0m\u001b[37m\u001b[0m \u001b[1m1s\u001b[0m 31ms/step - loss: 0.2877 - mae: 0.4196 - val_loss: 0.8000 - val_mae: 0.6078\n",
      "Epoch 14/50\n",
      "\u001b[1m10/10\u001b[0m \u001b[32m━━━━━━━━━━━━━━━━━━━━\u001b[0m\u001b[37m\u001b[0m \u001b[1m0s\u001b[0m 30ms/step - loss: 0.2117 - mae: 0.3629 - val_loss: 0.7420 - val_mae: 0.5776\n",
      "Epoch 15/50\n",
      "\u001b[1m10/10\u001b[0m \u001b[32m━━━━━━━━━━━━━━━━━━━━\u001b[0m\u001b[37m\u001b[0m \u001b[1m0s\u001b[0m 30ms/step - loss: 0.1956 - mae: 0.3438 - val_loss: 0.7040 - val_mae: 0.5569\n",
      "Epoch 16/50\n",
      "\u001b[1m10/10\u001b[0m \u001b[32m━━━━━━━━━━━━━━━━━━━━\u001b[0m\u001b[37m\u001b[0m \u001b[1m0s\u001b[0m 34ms/step - loss: 0.2093 - mae: 0.3562 - val_loss: 0.6639 - val_mae: 0.5381\n",
      "Epoch 17/50\n",
      "\u001b[1m10/10\u001b[0m \u001b[32m━━━━━━━━━━━━━━━━━━━━\u001b[0m\u001b[37m\u001b[0m \u001b[1m0s\u001b[0m 42ms/step - loss: 0.1721 - mae: 0.3269 - val_loss: 0.6328 - val_mae: 0.5199\n",
      "Epoch 18/50\n",
      "\u001b[1m10/10\u001b[0m \u001b[32m━━━━━━━━━━━━━━━━━━━━\u001b[0m\u001b[37m\u001b[0m \u001b[1m0s\u001b[0m 29ms/step - loss: 0.1541 - mae: 0.2998 - val_loss: 0.5995 - val_mae: 0.5082\n",
      "Epoch 19/50\n",
      "\u001b[1m10/10\u001b[0m \u001b[32m━━━━━━━━━━━━━━━━━━━━\u001b[0m\u001b[37m\u001b[0m \u001b[1m0s\u001b[0m 31ms/step - loss: 0.1542 - mae: 0.3086 - val_loss: 0.5842 - val_mae: 0.4980\n",
      "Epoch 20/50\n",
      "\u001b[1m10/10\u001b[0m \u001b[32m━━━━━━━━━━━━━━━━━━━━\u001b[0m\u001b[37m\u001b[0m \u001b[1m1s\u001b[0m 32ms/step - loss: 0.1406 - mae: 0.2957 - val_loss: 0.5733 - val_mae: 0.4870\n",
      "Epoch 21/50\n",
      "\u001b[1m10/10\u001b[0m \u001b[32m━━━━━━━━━━━━━━━━━━━━\u001b[0m\u001b[37m\u001b[0m \u001b[1m0s\u001b[0m 32ms/step - loss: 0.1348 - mae: 0.2878 - val_loss: 0.5574 - val_mae: 0.4765\n",
      "Epoch 22/50\n",
      "\u001b[1m10/10\u001b[0m \u001b[32m━━━━━━━━━━━━━━━━━━━━\u001b[0m\u001b[37m\u001b[0m \u001b[1m0s\u001b[0m 35ms/step - loss: 0.1236 - mae: 0.2785 - val_loss: 0.5384 - val_mae: 0.4711\n",
      "Epoch 23/50\n",
      "\u001b[1m10/10\u001b[0m \u001b[32m━━━━━━━━━━━━━━━━━━━━\u001b[0m\u001b[37m\u001b[0m \u001b[1m0s\u001b[0m 31ms/step - loss: 0.1002 - mae: 0.2472 - val_loss: 0.5351 - val_mae: 0.4622\n",
      "Epoch 24/50\n",
      "\u001b[1m10/10\u001b[0m \u001b[32m━━━━━━━━━━━━━━━━━━━━\u001b[0m\u001b[37m\u001b[0m \u001b[1m0s\u001b[0m 32ms/step - loss: 0.1175 - mae: 0.2679 - val_loss: 0.5178 - val_mae: 0.4588\n",
      "Epoch 25/50\n",
      "\u001b[1m10/10\u001b[0m \u001b[32m━━━━━━━━━━━━━━━━━━━━\u001b[0m\u001b[37m\u001b[0m \u001b[1m0s\u001b[0m 31ms/step - loss: 0.0926 - mae: 0.2352 - val_loss: 0.5040 - val_mae: 0.4543\n",
      "Epoch 26/50\n",
      "\u001b[1m10/10\u001b[0m \u001b[32m━━━━━━━━━━━━━━━━━━━━\u001b[0m\u001b[37m\u001b[0m \u001b[1m0s\u001b[0m 32ms/step - loss: 0.0949 - mae: 0.2387 - val_loss: 0.5062 - val_mae: 0.4481\n",
      "Epoch 27/50\n",
      "\u001b[1m10/10\u001b[0m \u001b[32m━━━━━━━━━━━━━━━━━━━━\u001b[0m\u001b[37m\u001b[0m \u001b[1m1s\u001b[0m 41ms/step - loss: 0.0880 - mae: 0.2285 - val_loss: 0.4916 - val_mae: 0.4443\n",
      "Epoch 28/50\n",
      "\u001b[1m10/10\u001b[0m \u001b[32m━━━━━━━━━━━━━━━━━━━━\u001b[0m\u001b[37m\u001b[0m \u001b[1m1s\u001b[0m 32ms/step - loss: 0.0859 - mae: 0.2275 - val_loss: 0.4868 - val_mae: 0.4406\n",
      "Epoch 29/50\n",
      "\u001b[1m10/10\u001b[0m \u001b[32m━━━━━━━━━━━━━━━━━━━━\u001b[0m\u001b[37m\u001b[0m \u001b[1m0s\u001b[0m 32ms/step - loss: 0.0686 - mae: 0.2044 - val_loss: 0.4799 - val_mae: 0.4391\n",
      "Epoch 30/50\n",
      "\u001b[1m10/10\u001b[0m \u001b[32m━━━━━━━━━━━━━━━━━━━━\u001b[0m\u001b[37m\u001b[0m \u001b[1m1s\u001b[0m 33ms/step - loss: 0.0761 - mae: 0.2139 - val_loss: 0.4707 - val_mae: 0.4344\n",
      "Epoch 31/50\n",
      "\u001b[1m10/10\u001b[0m \u001b[32m━━━━━━━━━━━━━━━━━━━━\u001b[0m\u001b[37m\u001b[0m \u001b[1m1s\u001b[0m 34ms/step - loss: 0.0681 - mae: 0.2019 - val_loss: 0.4708 - val_mae: 0.4338\n",
      "Epoch 32/50\n",
      "\u001b[1m10/10\u001b[0m \u001b[32m━━━━━━━━━━━━━━━━━━━━\u001b[0m\u001b[37m\u001b[0m \u001b[1m1s\u001b[0m 31ms/step - loss: 0.0642 - mae: 0.1942 - val_loss: 0.4586 - val_mae: 0.4279\n",
      "Epoch 33/50\n",
      "\u001b[1m10/10\u001b[0m \u001b[32m━━━━━━━━━━━━━━━━━━━━\u001b[0m\u001b[37m\u001b[0m \u001b[1m0s\u001b[0m 32ms/step - loss: 0.0651 - mae: 0.1882 - val_loss: 0.4599 - val_mae: 0.4276\n",
      "Epoch 34/50\n",
      "\u001b[1m10/10\u001b[0m \u001b[32m━━━━━━━━━━━━━━━━━━━━\u001b[0m\u001b[37m\u001b[0m \u001b[1m0s\u001b[0m 31ms/step - loss: 0.0606 - mae: 0.1906 - val_loss: 0.4472 - val_mae: 0.4222\n",
      "Epoch 35/50\n",
      "\u001b[1m10/10\u001b[0m \u001b[32m━━━━━━━━━━━━━━━━━━━━\u001b[0m\u001b[37m\u001b[0m \u001b[1m0s\u001b[0m 39ms/step - loss: 0.0485 - mae: 0.1665 - val_loss: 0.4447 - val_mae: 0.4213\n",
      "Epoch 36/50\n",
      "\u001b[1m10/10\u001b[0m \u001b[32m━━━━━━━━━━━━━━━━━━━━\u001b[0m\u001b[37m\u001b[0m \u001b[1m1s\u001b[0m 32ms/step - loss: 0.0564 - mae: 0.1758 - val_loss: 0.4418 - val_mae: 0.4195\n",
      "Epoch 37/50\n",
      "\u001b[1m10/10\u001b[0m \u001b[32m━━━━━━━━━━━━━━━━━━━━\u001b[0m\u001b[37m\u001b[0m \u001b[1m0s\u001b[0m 32ms/step - loss: 0.0503 - mae: 0.1725 - val_loss: 0.4345 - val_mae: 0.4159\n",
      "Epoch 38/50\n",
      "\u001b[1m10/10\u001b[0m \u001b[32m━━━━━━━━━━━━━━━━━━━━\u001b[0m\u001b[37m\u001b[0m \u001b[1m0s\u001b[0m 32ms/step - loss: 0.0451 - mae: 0.1637 - val_loss: 0.4345 - val_mae: 0.4150\n",
      "Epoch 39/50\n",
      "\u001b[1m10/10\u001b[0m \u001b[32m━━━━━━━━━━━━━━━━━━━━\u001b[0m\u001b[37m\u001b[0m \u001b[1m0s\u001b[0m 31ms/step - loss: 0.0466 - mae: 0.1628 - val_loss: 0.4284 - val_mae: 0.4133\n",
      "Epoch 40/50\n",
      "\u001b[1m10/10\u001b[0m \u001b[32m━━━━━━━━━━━━━━━━━━━━\u001b[0m\u001b[37m\u001b[0m \u001b[1m0s\u001b[0m 29ms/step - loss: 0.0420 - mae: 0.1524 - val_loss: 0.4179 - val_mae: 0.4111\n",
      "Epoch 41/50\n",
      "\u001b[1m10/10\u001b[0m \u001b[32m━━━━━━━━━━━━━━━━━━━━\u001b[0m\u001b[37m\u001b[0m \u001b[1m0s\u001b[0m 32ms/step - loss: 0.0435 - mae: 0.1574 - val_loss: 0.4171 - val_mae: 0.4096\n",
      "Epoch 42/50\n",
      "\u001b[1m10/10\u001b[0m \u001b[32m━━━━━━━━━━━━━━━━━━━━\u001b[0m\u001b[37m\u001b[0m \u001b[1m1s\u001b[0m 32ms/step - loss: 0.0380 - mae: 0.1462 - val_loss: 0.4176 - val_mae: 0.4076\n",
      "Epoch 43/50\n",
      "\u001b[1m10/10\u001b[0m \u001b[32m━━━━━━━━━━━━━━━━━━━━\u001b[0m\u001b[37m\u001b[0m \u001b[1m0s\u001b[0m 31ms/step - loss: 0.0362 - mae: 0.1451 - val_loss: 0.4110 - val_mae: 0.4051\n",
      "Epoch 44/50\n",
      "\u001b[1m10/10\u001b[0m \u001b[32m━━━━━━━━━━━━━━━━━━━━\u001b[0m\u001b[37m\u001b[0m \u001b[1m0s\u001b[0m 31ms/step - loss: 0.0342 - mae: 0.1434 - val_loss: 0.4102 - val_mae: 0.4053\n",
      "Epoch 45/50\n",
      "\u001b[1m10/10\u001b[0m \u001b[32m━━━━━━━━━━━━━━━━━━━━\u001b[0m\u001b[37m\u001b[0m \u001b[1m1s\u001b[0m 30ms/step - loss: 0.0346 - mae: 0.1408 - val_loss: 0.4003 - val_mae: 0.4013\n",
      "Epoch 46/50\n",
      "\u001b[1m10/10\u001b[0m \u001b[32m━━━━━━━━━━━━━━━━━━━━\u001b[0m\u001b[37m\u001b[0m \u001b[1m0s\u001b[0m 32ms/step - loss: 0.0323 - mae: 0.1393 - val_loss: 0.4001 - val_mae: 0.4019\n",
      "Epoch 47/50\n",
      "\u001b[1m10/10\u001b[0m \u001b[32m━━━━━━━━━━━━━━━━━━━━\u001b[0m\u001b[37m\u001b[0m \u001b[1m0s\u001b[0m 33ms/step - loss: 0.0297 - mae: 0.1278 - val_loss: 0.3951 - val_mae: 0.3978\n",
      "Epoch 48/50\n",
      "\u001b[1m10/10\u001b[0m \u001b[32m━━━━━━━━━━━━━━━━━━━━\u001b[0m\u001b[37m\u001b[0m \u001b[1m1s\u001b[0m 33ms/step - loss: 0.0278 - mae: 0.1257 - val_loss: 0.3918 - val_mae: 0.3967\n",
      "Epoch 49/50\n",
      "\u001b[1m10/10\u001b[0m \u001b[32m━━━━━━━━━━━━━━━━━━━━\u001b[0m\u001b[37m\u001b[0m \u001b[1m0s\u001b[0m 33ms/step - loss: 0.0306 - mae: 0.1303 - val_loss: 0.3922 - val_mae: 0.3984\n",
      "Epoch 50/50\n",
      "\u001b[1m10/10\u001b[0m \u001b[32m━━━━━━━━━━━━━━━━━━━━\u001b[0m\u001b[37m\u001b[0m \u001b[1m0s\u001b[0m 35ms/step - loss: 0.0263 - mae: 0.1193 - val_loss: 0.3856 - val_mae: 0.3944\n",
      "Pérdida: 0.3148, MAE: 0.4059\n"
     ]
    }
   ],
   "source": [
    "# Crear el modelo de red neuronal\n",
    "model = Sequential([\n",
    "    Dense(128, input_dim=X_train.shape[1], activation='relu'),\n",
    "    Dense(64, activation='relu'),\n",
    "    Dense(1, activation='linear')  # Salida para regresión\n",
    "])\n",
    "\n",
    "# Compilar el modelo\n",
    "model.compile(optimizer='adam', loss='mean_squared_error', metrics=['mae'])\n",
    "\n",
    "# Entrenar el modelo\n",
    "history = model.fit(X_train, y_train, epochs=50, batch_size=32, validation_split=0.2, verbose=1)\n",
    "\n",
    "# Evaluar el modelo\n",
    "loss, mae = model.evaluate(X_test, y_test, verbose=0)\n",
    "print(f\"Pérdida: {loss:.4f}, MAE: {mae:.4f}\")"
   ]
  },
  {
   "cell_type": "markdown",
   "metadata": {},
   "source": [
    "## Combinar Datos Categóricos y Numéricos y graficar los datos\n",
    "---\n",
    "Combinar los datos categóricos (géneros) con las características numéricas. Luego, graficar los datos."
   ]
  },
  {
   "cell_type": "code",
   "execution_count": 19,
   "metadata": {},
   "outputs": [
    {
     "name": "stdout",
     "output_type": "stream",
     "text": [
      "   Popularity  Members  Favorites  Fantasy  Kids  Psychological  Shounen  \\\n",
      "0           4   296958      61992        1     0              1        0   \n",
      "1          50    97073      18083        0     0              0        1   \n",
      "2          11   197562      26386        0     0              0        1   \n",
      "3           2   306944      75106        1     0              0        1   \n",
      "4          39   103030      10000        0     0              1        0   \n",
      "\n",
      "   Thriller  Cars  Military  ...  Parody  Romance  Gender  Comedy  Sci  \\\n",
      "0         0     0         1  ...       0        0       0       0    0   \n",
      "1         0     0         0  ...       0        0       0       0    0   \n",
      "2         0     0         1  ...       0        0       0       1    0   \n",
      "3         0     0         0  ...       0        0       0       1    0   \n",
      "4         0     0         0  ...       0        0       0       0    0   \n",
      "\n",
      "   Mystery  Music  Adventure  Historical  Game  \n",
      "0        0      0          1           0     0  \n",
      "1        1      0          1           1     0  \n",
      "2        0      0          1           0     0  \n",
      "3        0      0          1           0     0  \n",
      "4        1      0          0           0     0  \n",
      "\n",
      "[5 rows x 42 columns]\n"
     ]
    },
    {
     "data": {
      "image/png": "[encoded data removed]",
      "text/plain": [
       "<Figure size 640x480 with 1 Axes>"
      ]
     },
     "metadata": {},
     "output_type": "display_data"
    }
   ],
   "source": [
    "# Combinar Datos Categóricos y Numéricos\n",
    "\n",
    "# Combinar datos categóricos (géneros) con las características numéricas\n",
    "numerical_data = data[['Popularity', 'Members', 'Favorites']].values\n",
    "combined_data = pd.concat([pd.DataFrame(numerical_data, columns=['Popularity', 'Members', 'Favorites']), genres_encoded], axis=1)\n",
    "\n",
    "# Mostrar las primeras filas del DataFrame combinado\n",
    "print(combined_data.head())\n",
    "\n",
    "# Graficar el historial de entrenamiento\n",
    "plt.plot(history.history['loss'], label='Pérdida de entrenamiento')\n",
    "plt.plot(history.history['val_loss'], label='Pérdida de validación')\n",
    "plt.title('Pérdida durante el entrenamiento')\n",
    "plt.xlabel('Epocas')\n",
    "plt.ylabel('Pérdida')\n",
    "plt.legend()\n",
    "plt.show()\n"
   ]
  }
 ],
 "metadata": {
  "kernelspec": {
   "display_name": "Python 3",
   "language": "python",
   "name": "python3"
  },
  "language_info": {
   "codemirror_mode": {
    "name": "ipython",
    "version": 3
   },
   "file_extension": ".py",
   "mimetype": "text/x-python",
   "name": "python",
   "nbconvert_exporter": "python",
   "pygments_lexer": "ipython3",
   "version": "3.12.7"
  }
 },
 "nbformat": 4,
 "nbformat_minor": 2
}
