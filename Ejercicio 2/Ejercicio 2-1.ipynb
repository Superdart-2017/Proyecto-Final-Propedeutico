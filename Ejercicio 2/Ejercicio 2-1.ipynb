{
 "cells": [
  {
   "cell_type": "markdown",
   "metadata": {},
   "source": [
    "# Ejercicio 2: Clasificación de Emojis de acuerdo a frases\n",
    "\n",
    "---"
   ]
  },
  {
   "cell_type": "markdown",
   "metadata": {},
   "source": [
    "# Creación de un DataSet "
   ]
  },
  {
   "cell_type": "code",
   "execution_count": 6,
   "metadata": {},
   "outputs": [
    {
     "name": "stdout",
     "output_type": "stream",
     "text": [
      "El archivo 'dataset_frases.csv' se ha creado correctamente.\n"
     ]
    }
   ],
   "source": [
    "import pandas as pd\n",
    "\n",
    "\n",
    "# Dataset con 50 frases\n",
    "data = {\"frase\": [\n",
    "    \"Estoy feliz y emocionado\",\n",
    "    \"Que triste día\",\n",
    "    \"Estoy muy enojado\",\n",
    "    \"Esto es tan divertido\",\n",
    "    \"Necesito un café\",\n",
    "    \"Quiero un descanso\",\n",
    "    \"Te amo mucho\",\n",
    "    \"Hoy fue un gran día\",\n",
    "    \"Estoy tan aburrido\",\n",
    "    \"Qué hermosa mañana\",\n",
    "    \"Tengo mucho trabajo\",\n",
    "    \"No me gusta esta película\",\n",
    "    \"El cielo está tan bonito\",\n",
    "    \"Me siento increíblemente motivado\",\n",
    "    \"Quiero comer algo delicioso\",\n",
    "    \"El tráfico es insoportable\",\n",
    "    \"Me encantan los días lluviosos\",\n",
    "    \"Estoy cansado de todo\",\n",
    "    \"Es hora de una aventura\",\n",
    "    \"Estoy muy agradecido\",\n",
    "    \"Necesito concentrarme más\",\n",
    "    \"La música me relaja\",\n",
    "    \"No entiendo esta tarea\",\n",
    "    \"Es un día perfecto para leer\",\n",
    "    \"Tengo ganas de viajar\",\n",
    "    \"Esta comida es deliciosa\",\n",
    "    \"Quiero aprender algo nuevo\",\n",
    "    \"No puedo dejar de reír\",\n",
    "    \"Estoy un poco confundido\",\n",
    "    \"Es un gran momento para reflexionar\",\n",
    "    \"Ojalá pudiera dormir más\",\n",
    "    \"Estoy ansioso por el futuro\",\n",
    "    \"Todo es tan interesante aquí\",\n",
    "    \"Siento que no tengo energía\",\n",
    "    \"Este lugar es maravilloso\",\n",
    "    \"No tengo ganas de salir hoy\",\n",
    "    \"Quiero una taza de té\",\n",
    "    \"Hoy quiero ser productivo\",\n",
    "    \"Es tan emocionante este evento\",\n",
    "    \"Tengo ganas de llorar\",\n",
    "    \"La naturaleza es impresionante\",\n",
    "    \"Estoy tan orgulloso de ti\",\n",
    "    \"Hoy fue un día difícil\",\n",
    "    \"Me siento amado\",\n",
    "    \"Qué gran logro\",\n",
    "    \"Necesito resolver este problema\",\n",
    "    \"Quiero descansar un poco\",\n",
    "    \"Estoy inspirado\",\n",
    "    \"Es momento de celebrar\",\n",
    "    \"Quiero probar algo diferente\"\n",
    "],\n",
    "    \"emoji\": [\"😊\", \"😢\", \"😡\", \"😂\", \"☕\", \"😴\", \"💕\",\"🌟\", \"😒\", \"🌅\",\n",
    "              \"📚\", \"👎\", \"☁️\", \"🔥\",\"🍔\", \"🚗\", \"🌧️\", \"😔\", \"🏞️\", \"🙏\",\n",
    "              \"📖\", \"🎵\", \"❓\", \"📚\", \"✈️\", \"🍕\", \"📘\", \"🤣\", \"🤔\",\"🧘\",\n",
    "              \"💤\", \"😰\", \"🔍\", \"😪\", \"🌈\", \"🏠\", \"🍵\", \"🖊️\", \"🎉\", \"😭\",\n",
    "              \"🌳\", \"🌟\", \"🥲\", \"❤️\",\"🏆\", \"🧩\", \"🛌\", \"✨\", \"🎊\", \"🧪\"]\n",
    "}\n",
    "\n",
    "# Crear un DataFrame\n",
    "df = pd.DataFrame(data)\n",
    "\n",
    "# Guardar en un archivo CSV\n",
    "df.to_csv(\"frases.csv\", index=False, encoding=\"utf-8\")\n",
    "\n",
    "print(\"El archivo 'dataset_frases.csv' se ha creado correctamente.\")\n"
   ]
  },
  {
   "cell_type": "markdown",
   "metadata": {},
   "source": [
    "---\n"
   ]
  },
  {
   "cell_type": "markdown",
   "metadata": {},
   "source": [
    "## Representar las frases en forma de vectores utilizando TF-IDF\n",
    "\n",
    "---"
   ]
  },
  {
   "cell_type": "code",
   "execution_count": 8,
   "metadata": {},
   "outputs": [
    {
     "name": "stdout",
     "output_type": "stream",
     "text": [
      "Dimensiones de X: (50, 114)\n",
      "Dimensiones de y: (50,)\n"
     ]
    }
   ],
   "source": [
    "from sklearn.feature_extraction.text import TfidfVectorizer\n",
    "import pandas as pd\n",
    "import sys\n",
    "\n",
    "# Leer el archivo CSV\n",
    "df = pd.read_csv(\"frases.csv\")\n",
    "\n",
    "# Vectorización con TF-IDF\n",
    "vectorizer = TfidfVectorizer()\n",
    "X = vectorizer.fit_transform(df[\"frase\"])\n",
    "y = df[\"emoji\"]\n",
    "\n",
    "# Mostrar las dimensiones de los datos vectorizados\n",
    "print(f\"Dimensiones de X: {X.shape}\")\n",
    "print(f\"Dimensiones de y: {y.shape}\")"
   ]
  },
  {
   "cell_type": "markdown",
   "metadata": {},
   "source": [
    "---"
   ]
  },
  {
   "cell_type": "markdown",
   "metadata": {},
   "source": [
    "## Aplicar K-NN para clasificar las frases según el emoji más problable y entrenar el modelo\n",
    "\n",
    "---\n"
   ]
  },
  {
   "cell_type": "code",
   "execution_count": 9,
   "metadata": {},
   "outputs": [],
   "source": [
    "from sklearn.model_selection import train_test_split\n",
    "from sklearn.neighbors import KNeighborsClassifier\n",
    "\n",
    "# Dividir en entrenamiento y prueba\n",
    "X_train, X_test, y_train, y_test, idx_train, idx_test = train_test_split(\n",
    "    X, y, df.index, test_size=0.3, random_state=42\n",
    ")\n",
    "\n",
    "# Ajustar modelo con k=1\n",
    "knn = KNeighborsClassifier(n_neighbors=1)\n",
    "knn.fit(X_train, y_train)\n",
    "\n",
    "# Predicción\n",
    "y_pred = knn.predict(X_test)"
   ]
  },
  {
   "cell_type": "markdown",
   "metadata": {},
   "source": [
    "---"
   ]
  },
  {
   "cell_type": "markdown",
   "metadata": {},
   "source": [
    "## Presentar los resultados en predicciones\n",
    "\n",
    "---"
   ]
  },
  {
   "cell_type": "code",
   "execution_count": 11,
   "metadata": {},
   "outputs": [
    {
     "name": "stdout",
     "output_type": "stream",
     "text": [
      "Reporte de clasificación:\n",
      "              precision    recall  f1-score   support\n",
      "\n",
      "          ☁️       1.00      0.00      0.00       1.0\n",
      "           ☕       1.00      0.00      0.00       1.0\n",
      "          ✈️       0.00      1.00      0.00       0.0\n",
      "           ❓       0.00      1.00      0.00       0.0\n",
      "          ❤️       0.00      1.00      0.00       0.0\n",
      "           🌟       0.00      1.00      0.00       0.0\n",
      "           🍕       1.00      0.00      0.00       1.0\n",
      "           🎉       0.00      1.00      0.00       0.0\n",
      "           🎊       1.00      0.00      0.00       1.0\n",
      "           💤       1.00      0.00      0.00       1.0\n",
      "           📖       0.00      1.00      0.00       0.0\n",
      "           📘       1.00      0.00      0.00       1.0\n",
      "           🔍       1.00      0.00      0.00       1.0\n",
      "           🔥       1.00      0.00      0.00       1.0\n",
      "          🖊️       1.00      0.00      0.00       1.0\n",
      "           😂       1.00      0.00      0.00       1.0\n",
      "           😒       1.00      0.00      0.00       1.0\n",
      "           😔       1.00      0.00      0.00       1.0\n",
      "           😡       0.00      1.00      0.00       0.0\n",
      "           😭       1.00      0.00      0.00       1.0\n",
      "           🙏       1.00      0.00      0.00       1.0\n",
      "           🚗       0.00      1.00      0.00       0.0\n",
      "           🧘       0.00      1.00      0.00       0.0\n",
      "           🧩       1.00      0.00      0.00       1.0\n",
      "           🧪       0.00      1.00      0.00       0.0\n",
      "\n",
      "    accuracy                           0.00      15.0\n",
      "   macro avg       0.60      0.40      0.00      15.0\n",
      "weighted avg       1.00      0.00      0.00      15.0\n",
      "\n",
      "Matriz de confusión:\n",
      "[[0 0 0 0 0 0 0 0 0 0 0 0 0 0 0 0 0 0 0 0 0 1 0 0 0]\n",
      " [0 0 0 0 0 0 0 0 0 0 1 0 0 0 0 0 0 0 0 0 0 0 0 0 0]\n",
      " [0 0 0 0 0 0 0 0 0 0 0 0 0 0 0 0 0 0 0 0 0 0 0 0 0]\n",
      " [0 0 0 0 0 0 0 0 0 0 0 0 0 0 0 0 0 0 0 0 0 0 0 0 0]\n",
      " [0 0 0 0 0 0 0 0 0 0 0 0 0 0 0 0 0 0 0 0 0 0 0 0 0]\n",
      " [0 0 0 0 0 0 0 0 0 0 0 0 0 0 0 0 0 0 0 0 0 0 0 0 0]\n",
      " [0 0 0 1 0 0 0 0 0 0 0 0 0 0 0 0 0 0 0 0 0 0 0 0 0]\n",
      " [0 0 0 0 0 0 0 0 0 0 0 0 0 0 0 0 0 0 0 0 0 0 0 0 0]\n",
      " [0 0 0 0 0 0 0 0 0 0 0 0 0 0 0 0 0 0 0 0 0 0 1 0 0]\n",
      " [0 0 0 0 0 0 0 0 0 0 1 0 0 0 0 0 0 0 0 0 0 0 0 0 0]\n",
      " [0 0 0 0 0 0 0 0 0 0 0 0 0 0 0 0 0 0 0 0 0 0 0 0 0]\n",
      " [0 0 0 0 0 0 0 0 0 0 0 0 0 0 0 0 0 0 0 0 0 0 0 0 1]\n",
      " [0 0 0 0 0 0 0 1 0 0 0 0 0 0 0 0 0 0 0 0 0 0 0 0 0]\n",
      " [0 0 0 0 1 0 0 0 0 0 0 0 0 0 0 0 0 0 0 0 0 0 0 0 0]\n",
      " [0 0 0 0 0 1 0 0 0 0 0 0 0 0 0 0 0 0 0 0 0 0 0 0 0]\n",
      " [0 0 0 0 0 0 0 1 0 0 0 0 0 0 0 0 0 0 0 0 0 0 0 0 0]\n",
      " [0 0 0 0 0 1 0 0 0 0 0 0 0 0 0 0 0 0 0 0 0 0 0 0 0]\n",
      " [0 0 0 0 0 1 0 0 0 0 0 0 0 0 0 0 0 0 0 0 0 0 0 0 0]\n",
      " [0 0 0 0 0 0 0 0 0 0 0 0 0 0 0 0 0 0 0 0 0 0 0 0 0]\n",
      " [0 0 1 0 0 0 0 0 0 0 0 0 0 0 0 0 0 0 0 0 0 0 0 0 0]\n",
      " [0 0 0 0 0 0 0 0 0 0 0 0 0 0 0 0 0 0 1 0 0 0 0 0 0]\n",
      " [0 0 0 0 0 0 0 0 0 0 0 0 0 0 0 0 0 0 0 0 0 0 0 0 0]\n",
      " [0 0 0 0 0 0 0 0 0 0 0 0 0 0 0 0 0 0 0 0 0 0 0 0 0]\n",
      " [0 0 0 0 0 0 0 0 0 0 1 0 0 0 0 0 0 0 0 0 0 0 0 0 0]\n",
      " [0 0 0 0 0 0 0 0 0 0 0 0 0 0 0 0 0 0 0 0 0 0 0 0 0]]\n",
      "\n",
      "Resultados de predicciones:\n",
      "Frase: Me siento increíblemente motivado\n",
      "Emoji real: 🔥, Emoji predicho: ❤️ - Incorrecto\n",
      "---\n",
      "Frase: Tengo ganas de llorar\n",
      "Emoji real: 😭, Emoji predicho: ✈️ - Incorrecto\n",
      "---\n",
      "Frase: Ojalá pudiera dormir más\n",
      "Emoji real: 💤, Emoji predicho: 📖 - Incorrecto\n",
      "---\n",
      "Frase: Necesito resolver este problema\n",
      "Emoji real: 🧩, Emoji predicho: 📖 - Incorrecto\n",
      "---\n",
      "Frase: Estoy cansado de todo\n",
      "Emoji real: 😔, Emoji predicho: 🌟 - Incorrecto\n",
      "---\n",
      "Frase: Es momento de celebrar\n",
      "Emoji real: 🎊, Emoji predicho: 🧘 - Incorrecto\n",
      "---\n",
      "Frase: Quiero aprender algo nuevo\n",
      "Emoji real: 📘, Emoji predicho: 🧪 - Incorrecto\n",
      "---\n",
      "Frase: Esta comida es deliciosa\n",
      "Emoji real: 🍕, Emoji predicho: ❓ - Incorrecto\n",
      "---\n",
      "Frase: Todo es tan interesante aquí\n",
      "Emoji real: 🔍, Emoji predicho: 🎉 - Incorrecto\n",
      "---\n",
      "Frase: Estoy muy agradecido\n",
      "Emoji real: 🙏, Emoji predicho: 😡 - Incorrecto\n",
      "---\n",
      "Frase: El cielo está tan bonito\n",
      "Emoji real: ☁️, Emoji predicho: 🚗 - Incorrecto\n",
      "---\n",
      "Frase: Necesito un café\n",
      "Emoji real: ☕, Emoji predicho: 📖 - Incorrecto\n",
      "---\n",
      "Frase: Hoy quiero ser productivo\n",
      "Emoji real: 🖊️, Emoji predicho: 🌟 - Incorrecto\n",
      "---\n",
      "Frase: Estoy tan aburrido\n",
      "Emoji real: 😒, Emoji predicho: 🌟 - Incorrecto\n",
      "---\n",
      "Frase: Esto es tan divertido\n",
      "Emoji real: 😂, Emoji predicho: 🎉 - Incorrecto\n",
      "---\n",
      "\n",
      "Análisis de resultados:\n",
      "Total de predicciones: 15\n",
      "Predicciones correctas: 0\n",
      "Predicciones incorrectas: 15\n",
      "Precisión: 0.00\n"
     ]
    }
   ],
   "source": [
    "from sklearn.metrics import classification_report, confusion_matrix\n",
    "\n",
    "# Reporte de calificación\n",
    "print(\"Reporte de clasificación:\")\n",
    "print(classification_report(y_test, y_pred, zero_division=1))\n",
    "\n",
    "# Matriz de confusión\n",
    "print(\"Matriz de confusión:\")\n",
    "print(confusion_matrix(y_test, y_pred))\n",
    "\n",
    "# Mostrar resultados con predicciones correctas e incorrectas\n",
    "print(\"\\nResultados de predicciones:\")\n",
    "for i, (frase, emoji_real, emoji_predicho) in enumerate(zip(df.loc[idx_test, \"frase\"], y_test, y_pred)):\n",
    "    resultado = \"Correcto\" if emoji_real == emoji_predicho else \"Incorrecto\"\n",
    "    print(f\"Frase: {frase}\")\n",
    "    print(f\"Emoji real: {emoji_real}, Emoji predicho: {emoji_predicho} - {resultado}\")\n",
    "    print(\"---\")\n",
    "\n",
    "# Análisis de resultados\n",
    "correctas = sum(y_test == y_pred)\n",
    "incorrectas = sum(y_test != y_pred)\n",
    "total = len(y_test)\n",
    "\n",
    "print(f\"\\nAnálisis de resultados:\")\n",
    "print(f\"Total de predicciones: {total}\")\n",
    "print(f\"Predicciones correctas: {correctas}\")\n",
    "print(f\"Predicciones incorrectas: {incorrectas}\")\n",
    "print(f\"Precisión: {correctas / total:.2f}\")"
   ]
  }
 ],
 "metadata": {
  "kernelspec": {
   "display_name": "Python 3",
   "language": "python",
   "name": "python3"
  },
  "language_info": {
   "codemirror_mode": {
    "name": "ipython",
    "version": 3
   },
   "file_extension": ".py",
   "mimetype": "text/x-python",
   "name": "python",
   "nbconvert_exporter": "python",
   "pygments_lexer": "ipython3",
   "version": "3.12.7"
  }
 },
 "nbformat": 4,
 "nbformat_minor": 2
}
