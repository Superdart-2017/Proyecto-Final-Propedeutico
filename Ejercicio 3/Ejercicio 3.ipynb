{
 "cells": [
  {
   "cell_type": "markdown",
   "metadata": {},
   "source": [
    "# Ejercicio 3: Clasificación de videojuegos por popularidad\n",
    "---"
   ]
  },
  {
   "cell_type": "markdown",
   "metadata": {},
   "source": [
    "## Utilización del dataset vgchartz-2024.csv\n",
    "---"
   ]
  },
  {
   "cell_type": "code",
   "execution_count": 2,
   "metadata": {},
   "outputs": [
    {
     "name": "stdout",
     "output_type": "stream",
     "text": [
      "Primera fila del dataset:\n",
      "                                             img                        title  \\\n",
      "0  /games/boxart/full_6510540AmericaFrontccc.jpg           Grand Theft Auto V   \n",
      "1  /games/boxart/full_5563178AmericaFrontccc.jpg           Grand Theft Auto V   \n",
      "2                    /games/boxart/827563ccc.jpg  Grand Theft Auto: Vice City   \n",
      "3  /games/boxart/full_9218923AmericaFrontccc.jpg           Grand Theft Auto V   \n",
      "4  /games/boxart/full_4990510AmericaFrontccc.jpg    Call of Duty: Black Ops 3   \n",
      "\n",
      "  console    genre       publisher       developer  critic_score  total_sales  \\\n",
      "0     PS3   Action  Rockstar Games  Rockstar North           9.4        20.32   \n",
      "1     PS4   Action  Rockstar Games  Rockstar North           9.7        19.39   \n",
      "2     PS2   Action  Rockstar Games  Rockstar North           9.6        16.15   \n",
      "3    X360   Action  Rockstar Games  Rockstar North           NaN        15.86   \n",
      "4     PS4  Shooter      Activision        Treyarch           8.1        15.09   \n",
      "\n",
      "   na_sales  jp_sales  pal_sales  other_sales release_date last_update  \n",
      "0      6.37      0.99       9.85         3.12   2013-09-17         NaN  \n",
      "1      6.06      0.60       9.71         3.02   2014-11-18  2018-01-03  \n",
      "2      8.41      0.47       5.49         1.78   2002-10-28         NaN  \n",
      "3      9.06      0.06       5.33         1.42   2013-09-17         NaN  \n",
      "4      6.18      0.41       6.05         2.44   2015-11-06  2018-01-14  \n",
      "Nombre de columnas:\n",
      "Index(['img', 'title', 'console', 'genre', 'publisher', 'developer',\n",
      "       'critic_score', 'total_sales', 'na_sales', 'jp_sales', 'pal_sales',\n",
      "       'other_sales', 'release_date', 'last_update'],\n",
      "      dtype='object')\n"
     ]
    }
   ],
   "source": [
    "import pandas as pd\n",
    "\n",
    "# Lectura del dataset\n",
    "videogames = pd.read_csv(\"vgchartz-2024.csv\")\n",
    "\n",
    "# Imprimir primera fila del dataset\n",
    "print(\"Primera fila del dataset:\")\n",
    "print(videogames.head())\n",
    "\n",
    "# Imprimir nombres de columnas\n",
    "print(\"Nombre de columnas:\")\n",
    "print(videogames.columns)"
   ]
  },
  {
   "cell_type": "markdown",
   "metadata": {},
   "source": [
    "---"
   ]
  },
  {
   "cell_type": "markdown",
   "metadata": {},
   "source": [
    "## Limpieza de datos"
   ]
  },
  {
   "cell_type": "markdown",
   "metadata": {},
   "source": [
    "---\n"
   ]
  },
  {
   "cell_type": "code",
   "execution_count": 3,
   "metadata": {},
   "outputs": [],
   "source": [
    "# Eliminar duplicados y filas con datos faltantes en las columnas clave\n",
    "videogames = videogames.drop_duplicates()\n",
    "videogames = videogames.dropna(subset=['total_sales', 'critic_score', 'genre'])\n",
    "\n",
    "# Convertir total_sales a millones (si no lo está)\n",
    "videogames['total_sales'] = videogames['total_sales'] * 1e6\n",
    "\n",
    "# Crear la variable objetivo (categoría de popularidad)\n",
    "def categorize_popularity(row):\n",
    "    if row['total_sales'] > 5e6 and row['critic_score'] >= 8.0:\n",
    "        return 'muy popular'\n",
    "    elif row['total_sales'] > 2e6 and row['critic_score'] >= 6.5:\n",
    "        return 'moderadamente popular'\n",
    "    else:\n",
    "        return 'menos popular'\n",
    "\n",
    "videogames['popularity'] = videogames.apply(categorize_popularity, axis=1)"
   ]
  },
  {
   "cell_type": "markdown",
   "metadata": {},
   "source": [
    "---\n"
   ]
  },
  {
   "cell_type": "markdown",
   "metadata": {},
   "source": [
    "## Analisis de variables más importantes para la clasificación"
   ]
  },
  {
   "cell_type": "markdown",
   "metadata": {},
   "source": [
    "---"
   ]
  },
  {
   "cell_type": "code",
   "execution_count": 4,
   "metadata": {},
   "outputs": [],
   "source": [
    "from sklearn.preprocessing import MinMaxScaler\n",
    "\n",
    "# Seleccionar solo las columnas numéricas\n",
    "numerical_columns = videogames.select_dtypes(include=['float64', 'int64']).columns\n",
    "X = videogames[numerical_columns]\n",
    "\n",
    "# Normalizar datos numéricos\n",
    "scaler = MinMaxScaler()\n",
    "X_scaled = scaler.fit_transform(X)\n",
    "\n",
    "# Definir la variable objetivo\n",
    "y = videogames['popularity']"
   ]
  },
  {
   "cell_type": "markdown",
   "metadata": {},
   "source": [
    "---"
   ]
  },
  {
   "cell_type": "markdown",
   "metadata": {},
   "source": [
    "## Aplicación de Random Forest para clasificar y analisis de importancia de características"
   ]
  },
  {
   "cell_type": "markdown",
   "metadata": {},
   "source": [
    "---"
   ]
  },
  {
   "cell_type": "code",
   "execution_count": 6,
   "metadata": {},
   "outputs": [
    {
     "name": "stdout",
     "output_type": "stream",
     "text": [
      "Classification Report:\n",
      "                       precision    recall  f1-score   support\n",
      "\n",
      "        menos popular       1.00      1.00      1.00       736\n",
      "moderadamente popular       0.97      0.97      0.97        70\n",
      "          muy popular       0.90      0.95      0.93        20\n",
      "\n",
      "             accuracy                           1.00       826\n",
      "            macro avg       0.96      0.97      0.97       826\n",
      "         weighted avg       1.00      1.00      1.00       826\n",
      "\n",
      "Confusion Matrix:\n",
      "[[735   1   0]\n",
      " [  0  68   2]\n",
      " [  0   1  19]]\n"
     ]
    }
   ],
   "source": [
    "from sklearn.model_selection import train_test_split\n",
    "from sklearn.ensemble import RandomForestClassifier\n",
    "from sklearn.metrics import classification_report, confusion_matrix\n",
    "import numpy as np\n",
    "\n",
    "# Dividir los datos en conjuntos de entrenamiento y prueba\n",
    "X_train, X_test, y_train, y_test = train_test_split(X_scaled, y, test_size=0.2, random_state=42)\n",
    "\n",
    "# Aplicar Random Forest\n",
    "clf = RandomForestClassifier(n_estimators=100, random_state=42)\n",
    "clf.fit(X_train, y_train)\n",
    "\n",
    "# Predicciones\n",
    "y_pred = clf.predict(X_test)\n",
    "\n",
    "# Evaluar el modelo\n",
    "print(\"Classification Report:\")\n",
    "print(classification_report(y_test, y_pred))\n",
    "\n",
    "print(\"Confusion Matrix:\")\n",
    "print(confusion_matrix(y_test, y_pred))\n",
    "\n",
    "# Importancia de las características\n",
    "importances = clf.feature_importances_\n",
    "indices = np.argsort(importances)[::-1]"
   ]
  },
  {
   "cell_type": "markdown",
   "metadata": {},
   "source": [
    "---"
   ]
  },
  {
   "cell_type": "markdown",
   "metadata": {},
   "source": [
    "## Presentación de resultados con gráfica y análisis"
   ]
  },
  {
   "cell_type": "markdown",
   "metadata": {},
   "source": [
    "---"
   ]
  },
  {
   "cell_type": "code",
   "execution_count": 7,
   "metadata": {},
   "outputs": [
    {
     "data": {
      "image/png": "[encoded data removed]",
      "text/plain": [
       "<Figure size 1000x600 with 1 Axes>"
      ]
     },
     "metadata": {},
     "output_type": "display_data"
    }
   ],
   "source": [
    "import matplotlib.pyplot as plt\n",
    "import seaborn as sns\n",
    "import numpy as np\n",
    "\n",
    "# Gráfico de la importancia de las características\n",
    "plt.figure(figsize=(10, 6))\n",
    "plt.title(\"Importancia de las características\")\n",
    "plt.bar(range(X.shape[1]), importances[indices], align=\"center\")\n",
    "plt.xticks(range(X.shape[1]), numerical_columns[indices], rotation=90)\n",
    "plt.tight_layout()\n",
    "plt.show()"
   ]
  }
 ],
 "metadata": {
  "kernelspec": {
   "display_name": "Python 3",
   "language": "python",
   "name": "python3"
  },
  "language_info": {
   "codemirror_mode": {
    "name": "ipython",
    "version": 3
   },
   "file_extension": ".py",
   "mimetype": "text/x-python",
   "name": "python",
   "nbconvert_exporter": "python",
   "pygments_lexer": "ipython3",
   "version": "3.12.7"
  }
 },
 "nbformat": 4,
 "nbformat_minor": 2
}
